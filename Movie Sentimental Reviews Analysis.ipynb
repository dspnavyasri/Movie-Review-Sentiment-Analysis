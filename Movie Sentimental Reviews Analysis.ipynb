{
 "cells": [
  {
   "cell_type": "markdown",
   "id": "5b7d70ed",
   "metadata": {},
   "source": [
    "SENTIMENTAL ANALYSIS ON MOVIE REVIEWS"
   ]
  },
  {
   "cell_type": "code",
   "execution_count": 1,
   "id": "4746838c",
   "metadata": {
    "id": "4746838c"
   },
   "outputs": [],
   "source": [
    "import pandas as pd\n",
    "import re\n",
    "import nltk\n",
    "from nltk.corpus import stopwords\n",
    "from nltk.stem import WordNetLemmatizer"
   ]
  },
  {
   "cell_type": "code",
   "execution_count": 2,
   "id": "65406983",
   "metadata": {
    "colab": {
     "base_uri": "https://localhost:8080/",
     "height": 423
    },
    "id": "65406983",
    "outputId": "80d784fe-91ab-46d6-d405-47250e2c0da2"
   },
   "outputs": [
    {
     "data": {
      "text/html": [
       "<div>\n",
       "<style scoped>\n",
       "    .dataframe tbody tr th:only-of-type {\n",
       "        vertical-align: middle;\n",
       "    }\n",
       "\n",
       "    .dataframe tbody tr th {\n",
       "        vertical-align: top;\n",
       "    }\n",
       "\n",
       "    .dataframe thead th {\n",
       "        text-align: right;\n",
       "    }\n",
       "</style>\n",
       "<table border=\"1\" class=\"dataframe\">\n",
       "  <thead>\n",
       "    <tr style=\"text-align: right;\">\n",
       "      <th></th>\n",
       "      <th>review</th>\n",
       "    </tr>\n",
       "  </thead>\n",
       "  <tbody>\n",
       "    <tr>\n",
       "      <th>0</th>\n",
       "      <td>Shame, is a Swedish film in Swedish with Engli...</td>\n",
       "    </tr>\n",
       "    <tr>\n",
       "      <th>1</th>\n",
       "      <td>I know it's rather unfair to comment on a movi...</td>\n",
       "    </tr>\n",
       "    <tr>\n",
       "      <th>2</th>\n",
       "      <td>\"Bread\" very sharply skewers the conventions o...</td>\n",
       "    </tr>\n",
       "    <tr>\n",
       "      <th>3</th>\n",
       "      <td>After reading tons of good reviews about this ...</td>\n",
       "    </tr>\n",
       "    <tr>\n",
       "      <th>4</th>\n",
       "      <td>During the Civil war a wounded union soldier h...</td>\n",
       "    </tr>\n",
       "    <tr>\n",
       "      <th>...</th>\n",
       "      <td>...</td>\n",
       "    </tr>\n",
       "    <tr>\n",
       "      <th>39995</th>\n",
       "      <td>As a Pagan, I must say this movie has little i...</td>\n",
       "    </tr>\n",
       "    <tr>\n",
       "      <th>39996</th>\n",
       "      <td>A lot of the comments seem to treat this film ...</td>\n",
       "    </tr>\n",
       "    <tr>\n",
       "      <th>39997</th>\n",
       "      <td>I've only seen most of the series since I leav...</td>\n",
       "    </tr>\n",
       "    <tr>\n",
       "      <th>39998</th>\n",
       "      <td>The \"all I have is 5 dollars and my wedding ri...</td>\n",
       "    </tr>\n",
       "    <tr>\n",
       "      <th>39999</th>\n",
       "      <td>When King Kong stripped her of her top in the ...</td>\n",
       "    </tr>\n",
       "  </tbody>\n",
       "</table>\n",
       "<p>40000 rows × 1 columns</p>\n",
       "</div>"
      ],
      "text/plain": [
       "                                                  review\n",
       "0      Shame, is a Swedish film in Swedish with Engli...\n",
       "1      I know it's rather unfair to comment on a movi...\n",
       "2      \"Bread\" very sharply skewers the conventions o...\n",
       "3      After reading tons of good reviews about this ...\n",
       "4      During the Civil war a wounded union soldier h...\n",
       "...                                                  ...\n",
       "39995  As a Pagan, I must say this movie has little i...\n",
       "39996  A lot of the comments seem to treat this film ...\n",
       "39997  I've only seen most of the series since I leav...\n",
       "39998  The \"all I have is 5 dollars and my wedding ri...\n",
       "39999  When King Kong stripped her of her top in the ...\n",
       "\n",
       "[40000 rows x 1 columns]"
      ]
     },
     "execution_count": 2,
     "metadata": {},
     "output_type": "execute_result"
    }
   ],
   "source": [
    "review_df = pd.read_csv(\"https://raw.githubusercontent.com/msaricaumbc/DS_data/master/ds602/final/X_train.csv\")\n",
    "review_df"
   ]
  },
  {
   "cell_type": "markdown",
   "id": "d5786ffe",
   "metadata": {
    "id": "d5786ffe"
   },
   "source": [
    "DATA PREPROCESSING"
   ]
  },
  {
   "cell_type": "code",
   "execution_count": 3,
   "id": "69e4f6cd",
   "metadata": {
    "id": "69e4f6cd"
   },
   "outputs": [],
   "source": [
    "def clean_text(text):\n",
    "    text = re.sub(r\"[^a-zA-Z]\", \" \", text)  # Remove non-alphabetic characters\n",
    "    return text\n",
    "\n",
    "review_df[\"review\"] = review_df[\"review\"].apply(clean_text)"
   ]
  },
  {
   "cell_type": "code",
   "execution_count": 4,
   "id": "93439723",
   "metadata": {
    "id": "93439723"
   },
   "outputs": [],
   "source": [
    "review_df[\"review\"] = review_df[\"review\"].str.lower()"
   ]
  },
  {
   "cell_type": "code",
   "execution_count": 5,
   "id": "1f08290a",
   "metadata": {
    "colab": {
     "base_uri": "https://localhost:8080/"
    },
    "id": "1f08290a",
    "outputId": "6430cce5-8220-44e3-fbc2-d3a27a72ae5f"
   },
   "outputs": [
    {
     "name": "stderr",
     "output_type": "stream",
     "text": [
      "[nltk_data] Downloading package punkt to\n",
      "[nltk_data]     C:\\Users\\harik\\AppData\\Roaming\\nltk_data...\n",
      "[nltk_data]   Package punkt is already up-to-date!\n"
     ]
    }
   ],
   "source": [
    "nltk.download('punkt')\n",
    "def tokenize_text(text):\n",
    "    return nltk.word_tokenize(text)\n",
    "\n",
    "review_df[\"review\"] = review_df[\"review\"].apply(tokenize_text)"
   ]
  },
  {
   "cell_type": "code",
   "execution_count": 6,
   "id": "d3c8b9c8",
   "metadata": {
    "colab": {
     "base_uri": "https://localhost:8080/"
    },
    "id": "d3c8b9c8",
    "outputId": "4697b5e6-faa6-411d-bee1-6e2b3c3c0749"
   },
   "outputs": [
    {
     "name": "stderr",
     "output_type": "stream",
     "text": [
      "[nltk_data] Downloading package stopwords to\n",
      "[nltk_data]     C:\\Users\\harik\\AppData\\Roaming\\nltk_data...\n",
      "[nltk_data]   Package stopwords is already up-to-date!\n"
     ]
    }
   ],
   "source": [
    "nltk.download(\"stopwords\")\n",
    "stop_words = set(stopwords.words(\"english\"))\n",
    "\n",
    "def remove_stopwords(tokens):\n",
    "    return [token for token in tokens if token not in stop_words]\n",
    "\n",
    "review_df[\"review\"] = review_df[\"review\"].apply(remove_stopwords)"
   ]
  },
  {
   "cell_type": "code",
   "execution_count": 7,
   "id": "e75a3d95",
   "metadata": {
    "colab": {
     "base_uri": "https://localhost:8080/"
    },
    "id": "e75a3d95",
    "outputId": "322d083e-1166-451f-f86c-b2c0bb85d0c9"
   },
   "outputs": [
    {
     "name": "stderr",
     "output_type": "stream",
     "text": [
      "[nltk_data] Downloading package wordnet to\n",
      "[nltk_data]     C:\\Users\\harik\\AppData\\Roaming\\nltk_data...\n",
      "[nltk_data]   Package wordnet is already up-to-date!\n"
     ]
    }
   ],
   "source": [
    "nltk.download(\"wordnet\")\n",
    "lemmatizer = WordNetLemmatizer()\n",
    "\n",
    "def lemmatize_tokens(tokens):\n",
    "    return [lemmatizer.lemmatize(token) for token in tokens]\n",
    "\n",
    "review_df[\"review\"] = review_df[\"review\"].apply(lemmatize_tokens)"
   ]
  },
  {
   "cell_type": "markdown",
   "id": "a375d924",
   "metadata": {
    "id": "a375d924"
   },
   "source": [
    "with the distribution its clear that the data is balanced data."
   ]
  },
  {
   "cell_type": "code",
   "execution_count": 8,
   "id": "cfc51e6b",
   "metadata": {},
   "outputs": [
    {
     "name": "stdout",
     "output_type": "stream",
     "text": [
      "Requirement already satisfied: textblob in c:\\users\\harik\\anaconda3\\lib\\site-packages (0.18.0.post0)\n",
      "Requirement already satisfied: nltk>=3.8 in c:\\users\\harik\\anaconda3\\lib\\site-packages (from textblob) (3.8.1)\n",
      "Requirement already satisfied: click in c:\\users\\harik\\anaconda3\\lib\\site-packages (from nltk>=3.8->textblob) (8.0.4)\n",
      "Requirement already satisfied: joblib in c:\\users\\harik\\anaconda3\\lib\\site-packages (from nltk>=3.8->textblob) (1.2.0)\n",
      "Requirement already satisfied: regex>=2021.8.3 in c:\\users\\harik\\anaconda3\\lib\\site-packages (from nltk>=3.8->textblob) (2022.7.9)\n",
      "Requirement already satisfied: tqdm in c:\\users\\harik\\anaconda3\\lib\\site-packages (from nltk>=3.8->textblob) (4.65.0)\n",
      "Requirement already satisfied: colorama in c:\\users\\harik\\anaconda3\\lib\\site-packages (from click->nltk>=3.8->textblob) (0.4.6)\n"
     ]
    }
   ],
   "source": [
    "!pip install textblob"
   ]
  },
  {
   "cell_type": "markdown",
   "id": "2f045e26",
   "metadata": {},
   "source": [
    "ADD SENTIMENT COLUMN"
   ]
  },
  {
   "cell_type": "code",
   "execution_count": 9,
   "id": "f8ea269d",
   "metadata": {
    "id": "f8ea269d"
   },
   "outputs": [],
   "source": [
    "from textblob import TextBlob\n",
    "\n",
    "sentiments = []\n",
    "for review in review_df['review']:\n",
    "    review_text = str(review)  # Convert the review to a string\n",
    "    blob = TextBlob(review_text)\n",
    "    polarity = blob.sentiment.polarity\n",
    "    sentiment = 1 if polarity > 0 else 0  # Assign sentiment label based on polarity\n",
    "    sentiments.append(sentiment)\n"
   ]
  },
  {
   "cell_type": "code",
   "execution_count": 10,
   "id": "10fbebf8",
   "metadata": {},
   "outputs": [],
   "source": [
    "# Add the sentiment column to the dataset\n",
    "review_df['Sentiment'] = sentiments\n",
    "\n",
    "# Save the updated dataset\n",
    "review_df.to_csv(\"labeled_data.csv\", index=False)"
   ]
  },
  {
   "cell_type": "code",
   "execution_count": 11,
   "id": "6d775a7a",
   "metadata": {},
   "outputs": [
    {
     "data": {
      "text/html": [
       "<div>\n",
       "<style scoped>\n",
       "    .dataframe tbody tr th:only-of-type {\n",
       "        vertical-align: middle;\n",
       "    }\n",
       "\n",
       "    .dataframe tbody tr th {\n",
       "        vertical-align: top;\n",
       "    }\n",
       "\n",
       "    .dataframe thead th {\n",
       "        text-align: right;\n",
       "    }\n",
       "</style>\n",
       "<table border=\"1\" class=\"dataframe\">\n",
       "  <thead>\n",
       "    <tr style=\"text-align: right;\">\n",
       "      <th></th>\n",
       "      <th>review</th>\n",
       "      <th>Sentiment</th>\n",
       "    </tr>\n",
       "  </thead>\n",
       "  <tbody>\n",
       "    <tr>\n",
       "      <th>0</th>\n",
       "      <td>[shame, swedish, film, swedish, english, subti...</td>\n",
       "      <td>1</td>\n",
       "    </tr>\n",
       "    <tr>\n",
       "      <th>1</th>\n",
       "      <td>[know, rather, unfair, comment, movie, without...</td>\n",
       "      <td>0</td>\n",
       "    </tr>\n",
       "    <tr>\n",
       "      <th>2</th>\n",
       "      <td>[bread, sharply, skewer, convention, horror, m...</td>\n",
       "      <td>1</td>\n",
       "    </tr>\n",
       "    <tr>\n",
       "      <th>3</th>\n",
       "      <td>[reading, ton, good, review, movie, decided, t...</td>\n",
       "      <td>1</td>\n",
       "    </tr>\n",
       "    <tr>\n",
       "      <th>4</th>\n",
       "      <td>[civil, war, wounded, union, soldier, hide, is...</td>\n",
       "      <td>1</td>\n",
       "    </tr>\n",
       "    <tr>\n",
       "      <th>...</th>\n",
       "      <td>...</td>\n",
       "      <td>...</td>\n",
       "    </tr>\n",
       "    <tr>\n",
       "      <th>39995</th>\n",
       "      <td>[pagan, must, say, movie, little, magickal, si...</td>\n",
       "      <td>1</td>\n",
       "    </tr>\n",
       "    <tr>\n",
       "      <th>39996</th>\n",
       "      <td>[lot, comment, seem, treat, film, baseball, mo...</td>\n",
       "      <td>1</td>\n",
       "    </tr>\n",
       "    <tr>\n",
       "      <th>39997</th>\n",
       "      <td>[seen, series, since, leave, tv, background, n...</td>\n",
       "      <td>0</td>\n",
       "    </tr>\n",
       "    <tr>\n",
       "      <th>39998</th>\n",
       "      <td>[dollar, wedding, ring, scene, riot, also, guf...</td>\n",
       "      <td>1</td>\n",
       "    </tr>\n",
       "    <tr>\n",
       "      <th>39999</th>\n",
       "      <td>[king, kong, stripped, top, remake, breathless...</td>\n",
       "      <td>1</td>\n",
       "    </tr>\n",
       "  </tbody>\n",
       "</table>\n",
       "<p>40000 rows × 2 columns</p>\n",
       "</div>"
      ],
      "text/plain": [
       "                                                  review  Sentiment\n",
       "0      [shame, swedish, film, swedish, english, subti...          1\n",
       "1      [know, rather, unfair, comment, movie, without...          0\n",
       "2      [bread, sharply, skewer, convention, horror, m...          1\n",
       "3      [reading, ton, good, review, movie, decided, t...          1\n",
       "4      [civil, war, wounded, union, soldier, hide, is...          1\n",
       "...                                                  ...        ...\n",
       "39995  [pagan, must, say, movie, little, magickal, si...          1\n",
       "39996  [lot, comment, seem, treat, film, baseball, mo...          1\n",
       "39997  [seen, series, since, leave, tv, background, n...          0\n",
       "39998  [dollar, wedding, ring, scene, riot, also, guf...          1\n",
       "39999  [king, kong, stripped, top, remake, breathless...          1\n",
       "\n",
       "[40000 rows x 2 columns]"
      ]
     },
     "execution_count": 11,
     "metadata": {},
     "output_type": "execute_result"
    }
   ],
   "source": [
    "review_df"
   ]
  },
  {
   "cell_type": "code",
   "execution_count": 12,
   "id": "4451b075",
   "metadata": {},
   "outputs": [
    {
     "name": "stdout",
     "output_type": "stream",
     "text": [
      "Sentiment Distribution:\n",
      "Sentiment\n",
      "1    29399\n",
      "0    10601\n",
      "Name: count, dtype: int64\n"
     ]
    }
   ],
   "source": [
    "# Assuming your labeled data is stored in a DataFrame called 'df_labels'\n",
    "sentiment_counts = review_df['Sentiment'].value_counts()\n",
    "\n",
    "print(\"Sentiment Distribution:\")\n",
    "print(sentiment_counts)"
   ]
  },
  {
   "cell_type": "code",
   "execution_count": 13,
   "id": "2903c59d",
   "metadata": {},
   "outputs": [],
   "source": [
    "X = review_df['review']\n",
    "y = review_df['Sentiment']"
   ]
  },
  {
   "cell_type": "markdown",
   "id": "673f212c",
   "metadata": {},
   "source": [
    "BALANCE THE CLASS"
   ]
  },
  {
   "cell_type": "code",
   "execution_count": 14,
   "id": "33edf126",
   "metadata": {},
   "outputs": [],
   "source": [
    "import numpy as np\n",
    "from imblearn.over_sampling import RandomOverSampler\n",
    "\n",
    "#Perform oversampling to balance the classes (assuming binary classification)\n",
    "ros = RandomOverSampler(random_state=42)\n",
    "X_resampled, y_resampled = ros.fit_resample(review_df['review'].apply(' '.join).values.reshape(-1, 1), review_df['Sentiment'])"
   ]
  },
  {
   "cell_type": "code",
   "execution_count": 15,
   "id": "db521e44",
   "metadata": {},
   "outputs": [],
   "source": [
    "# Create a balanced DataFrame\n",
    "balanced_review_df = pd.DataFrame({'review': X_resampled.squeeze(), 'Sentiment': y_resampled})"
   ]
  },
  {
   "cell_type": "markdown",
   "id": "a49787e3",
   "metadata": {},
   "source": [
    "TRAIN AND TEST SPLITTING"
   ]
  },
  {
   "cell_type": "code",
   "execution_count": 16,
   "id": "4b26ecae",
   "metadata": {},
   "outputs": [],
   "source": [
    "from sklearn.model_selection import train_test_split\n",
    "\n",
    "#Split the data into training and validation sets\n",
    "train_data, val_data, train_labels, val_labels = train_test_split(balanced_review_df['review'], balanced_review_df['Sentiment'], test_size=0.2, random_state=42)"
   ]
  },
  {
   "cell_type": "code",
   "execution_count": null,
   "id": "226f991d",
   "metadata": {},
   "outputs": [],
   "source": []
  },
  {
   "cell_type": "code",
   "execution_count": 17,
   "id": "21ebf278",
   "metadata": {},
   "outputs": [],
   "source": [
    "from sklearn.feature_extraction.text import TfidfVectorizer\n",
    "# Feature extraction (TF-IDF)\n",
    "vectorizer = TfidfVectorizer()\n",
    "train_features = vectorizer.fit_transform(train_data)\n",
    "val_features = vectorizer.transform(val_data)"
   ]
  },
  {
   "cell_type": "code",
   "execution_count": 20,
   "id": "6aa8dd6a",
   "metadata": {},
   "outputs": [
    {
     "name": "stdout",
     "output_type": "stream",
     "text": [
      "Number of features: 75448\n"
     ]
    }
   ],
   "source": [
    "# # Count the number of features\n",
    "# num_features = len(vectorizer.get_feature_names())\n",
    "# print(\"Number of features:\", num_features)\n",
    "# Count the number of features\n",
    "num_features = len(vectorizer.get_feature_names_out())\n",
    "print(\"Number of features:\", num_features)"
   ]
  },
  {
   "cell_type": "markdown",
   "id": "901cec44",
   "metadata": {},
   "source": [
    "#NAVIE BAYES CLASSIFIER"
   ]
  },
  {
   "cell_type": "code",
   "execution_count": 21,
   "id": "2d7d1456",
   "metadata": {},
   "outputs": [],
   "source": [
    "from sklearn.naive_bayes import MultinomialNB\n",
    "from sklearn.metrics import classification_report"
   ]
  },
  {
   "cell_type": "code",
   "execution_count": 22,
   "id": "4945dead",
   "metadata": {},
   "outputs": [],
   "source": [
    "# Step 6: Model Training and Evaluation (Naive Bayes)\n",
    "nb_model = MultinomialNB()\n",
    "nb_model.fit(train_features, train_labels)\n",
    "nb_predictions = nb_model.predict(val_features)"
   ]
  },
  {
   "cell_type": "code",
   "execution_count": 23,
   "id": "76fdd55b",
   "metadata": {},
   "outputs": [
    {
     "name": "stdout",
     "output_type": "stream",
     "text": [
      "Naive Bayes Classification Report:\n",
      "              precision    recall  f1-score   support\n",
      "\n",
      "           0       0.79      0.89      0.84      5869\n",
      "           1       0.87      0.77      0.82      5891\n",
      "\n",
      "    accuracy                           0.83     11760\n",
      "   macro avg       0.83      0.83      0.83     11760\n",
      "weighted avg       0.83      0.83      0.83     11760\n",
      "\n"
     ]
    }
   ],
   "source": [
    "# Step 7: Print classification report\n",
    "print(\"Naive Bayes Classification Report:\")\n",
    "print(classification_report(val_labels, nb_predictions))"
   ]
  },
  {
   "cell_type": "markdown",
   "id": "b2813af9",
   "metadata": {},
   "source": [
    "Overall, the Naive Bayes model achieved reasonable performance on the test set with an accuracy of 83%. The precision, recall, and F1-score indicate satisfactory performance for both class 0 and class 1."
   ]
  },
  {
   "cell_type": "markdown",
   "id": "4f2f6020",
   "metadata": {},
   "source": [
    "SVM CLASSIFIER"
   ]
  },
  {
   "cell_type": "code",
   "execution_count": 24,
   "id": "5c00926b",
   "metadata": {},
   "outputs": [],
   "source": [
    "from sklearn.svm import SVC\n",
    "\n",
    "# Create an SVM classifier\n",
    "svm = SVC()\n",
    "\n",
    "# Train the SVM model\n",
    "svm.fit(train_features, train_labels)\n",
    "\n",
    "# Predict on the test data\n",
    "svm_predictions = svm.predict(val_features)\n",
    "\n",
    "# Calculate the evaluation metrics for SVM\n",
    "svm_metrics = classification_report(val_labels, svm_predictions)\n",
    "\n",
    "# Print the evaluation metrics for SVM\n",
    "print(\"SVM Classification Report:\")\n",
    "print(svm_metrics)"
   ]
  },
  {
   "cell_type": "markdown",
   "id": "87be9fc6",
   "metadata": {},
   "source": [
    "RANDOM FOREST CLASSIFIER"
   ]
  },
  {
   "cell_type": "code",
   "execution_count": 26,
   "id": "7b60c7a6",
   "metadata": {},
   "outputs": [
    {
     "name": "stdout",
     "output_type": "stream",
     "text": [
      "Random Forest Classification Report:\n",
      "              precision    recall  f1-score   support\n",
      "\n",
      "           0       0.94      0.95      0.95      5869\n",
      "           1       0.95      0.94      0.95      5891\n",
      "\n",
      "    accuracy                           0.95     11760\n",
      "   macro avg       0.95      0.95      0.95     11760\n",
      "weighted avg       0.95      0.95      0.95     11760\n",
      "\n"
     ]
    }
   ],
   "source": [
    "from sklearn.ensemble import RandomForestClassifier\n",
    "\n",
    "# Create a Random Forest classifier\n",
    "rf = RandomForestClassifier()\n",
    "\n",
    "# Train the Random Forest model\n",
    "rf.fit(train_features, train_labels)\n",
    "\n",
    "# Predict on the test data\n",
    "rf_predictions = rf.predict(val_features)\n",
    "\n",
    "# Calculate the evaluation metrics for Random Forest\n",
    "rf_metrics = classification_report(val_labels, rf_predictions)\n",
    "\n",
    "# Print the evaluation metrics for Random Forest\n",
    "print(\"Random Forest Classification Report:\")\n",
    "print(rf_metrics)\n"
   ]
  },
  {
   "cell_type": "markdown",
   "id": "2f0b674a",
   "metadata": {},
   "source": [
    "LOGISTIC REGRESSION"
   ]
  },
  {
   "cell_type": "code",
   "execution_count": 27,
   "id": "ff40161a",
   "metadata": {},
   "outputs": [
    {
     "name": "stdout",
     "output_type": "stream",
     "text": [
      "Logistic Regression Classification Report:\n",
      "              precision    recall  f1-score   support\n",
      "\n",
      "           0       0.92      0.96      0.94      5869\n",
      "           1       0.96      0.92      0.94      5891\n",
      "\n",
      "    accuracy                           0.94     11760\n",
      "   macro avg       0.94      0.94      0.94     11760\n",
      "weighted avg       0.94      0.94      0.94     11760\n",
      "\n"
     ]
    }
   ],
   "source": [
    "from sklearn.linear_model import LogisticRegression\n",
    "\n",
    "# Logistic Regression\n",
    "logreg = LogisticRegression()\n",
    "logreg.fit(train_features, train_labels)\n",
    "logreg_predictions = logreg.predict(val_features)\n",
    "logreg_report = classification_report(val_labels, logreg_predictions)\n",
    "print(\"Logistic Regression Classification Report:\")\n",
    "print(logreg_report)"
   ]
  },
  {
   "cell_type": "markdown",
   "id": "784b1c1a",
   "metadata": {},
   "source": [
    "GRADIENT BOOSTING CLASSIFIER"
   ]
  },
  {
   "cell_type": "code",
   "execution_count": 28,
   "id": "62f12246",
   "metadata": {},
   "outputs": [
    {
     "name": "stdout",
     "output_type": "stream",
     "text": [
      "Gradient Boosting Classification Report:\n",
      "              precision    recall  f1-score   support\n",
      "\n",
      "           0       0.84      0.84      0.84      5869\n",
      "           1       0.84      0.84      0.84      5891\n",
      "\n",
      "    accuracy                           0.84     11760\n",
      "   macro avg       0.84      0.84      0.84     11760\n",
      "weighted avg       0.84      0.84      0.84     11760\n",
      "\n"
     ]
    }
   ],
   "source": [
    "from sklearn.ensemble import GradientBoostingClassifier\n",
    "\n",
    "# Gradient Boosting\n",
    "gradient_boosting = GradientBoostingClassifier()\n",
    "gradient_boosting.fit(train_features, train_labels)\n",
    "gb_predictions = gradient_boosting.predict(val_features)\n",
    "gb_report = classification_report(val_labels, gb_predictions)\n",
    "print(\"Gradient Boosting Classification Report:\")\n",
    "print(gb_report)"
   ]
  },
  {
   "cell_type": "markdown",
   "id": "9a06291f",
   "metadata": {},
   "source": [
    "PERFORMING HYPER PARAMETER TUNING"
   ]
  },
  {
   "cell_type": "code",
   "execution_count": 30,
   "id": "e8138aa7",
   "metadata": {},
   "outputs": [
    {
     "name": "stdout",
     "output_type": "stream",
     "text": [
      "Best parameters: {'alpha': 1.0, 'solver': 'auto'}\n",
      "Best score: 0.6794608841192258\n"
     ]
    }
   ],
   "source": [
    "from sklearn.linear_model import Ridge\n",
    "from sklearn.model_selection import GridSearchCV\n",
    "\n",
    "# Instantiate the Ridge model\n",
    "ridge_model = Ridge()\n",
    "\n",
    "# Define the parameter grid for hyperparameter tuning\n",
    "param_grid = {'alpha': [0.1, 1.0, 10.0], 'solver': ['auto']}\n",
    "\n",
    "# Perform Grid Search with cross-validation\n",
    "grid_search = GridSearchCV(estimator=ridge_model, param_grid=param_grid, cv=5)\n",
    "\n",
    "# Fit the Grid Search object to the data\n",
    "grid_search.fit(train_features, train_labels)  # Replace X_train and y_train with your training data\n",
    "\n",
    "# Print the best hyperparameters and best score\n",
    "print(\"Best parameters:\", grid_search.best_params_)\n",
    "print(\"Best score:\", grid_search.best_score_)\n"
   ]
  },
  {
   "cell_type": "code",
   "execution_count": 31,
   "id": "3c40cf06",
   "metadata": {},
   "outputs": [
    {
     "data": {
      "text/plain": [
       "['linear_regression_model.pkl']"
      ]
     },
     "execution_count": 31,
     "metadata": {},
     "output_type": "execute_result"
    }
   ],
   "source": [
    "import joblib\n",
    "\n",
    "# Save the model to a file\n",
    "joblib.dump(logreg, 'linear_regression_model.pkl')"
   ]
  }
 ],
 "metadata": {
  "accelerator": "GPU",
  "colab": {
   "gpuType": "A100",
   "machine_shape": "hm",
   "provenance": []
  },
  "gpuClass": "standard",
  "kernelspec": {
   "display_name": "Python 3 (ipykernel)",
   "language": "python",
   "name": "python3"
  },
  "language_info": {
   "codemirror_mode": {
    "name": "ipython",
    "version": 3
   },
   "file_extension": ".py",
   "mimetype": "text/x-python",
   "name": "python",
   "nbconvert_exporter": "python",
   "pygments_lexer": "ipython3",
   "version": "3.11.5"
  }
 },
 "nbformat": 4,
 "nbformat_minor": 5
}
